{
  "nbformat": 4,
  "nbformat_minor": 0,
  "metadata": {
    "colab": {
      "name": "Numpytutorial.ipynb",
      "provenance": [],
      "authorship_tag": "ABX9TyMehqQ39RxPlSOs+zOVS1Oz",
      "include_colab_link": true
    },
    "kernelspec": {
      "name": "python3",
      "display_name": "Python 3"
    },
    "language_info": {
      "name": "python"
    }
  },
  "cells": [
    {
      "cell_type": "markdown",
      "metadata": {
        "id": "view-in-github",
        "colab_type": "text"
      },
      "source": [
        "<a href=\"https://colab.research.google.com/github/annuss5/Colab-Works/blob/main/Numpytutorial.ipynb\" target=\"_parent\"><img src=\"https://colab.research.google.com/assets/colab-badge.svg\" alt=\"Open In Colab\"/></a>"
      ]
    },
    {
      "cell_type": "markdown",
      "metadata": {
        "id": "9zoLK2HHll1c"
      },
      "source": [
        "**E.Annapoorna**\n",
        "\n",
        "\n",
        "**Tag-N**"
      ]
    },
    {
      "cell_type": "code",
      "metadata": {
        "id": "ppLwyLMnb_LP"
      },
      "source": [
        "import numpy as np"
      ],
      "execution_count": 1,
      "outputs": []
    },
    {
      "cell_type": "code",
      "metadata": {
        "colab": {
          "base_uri": "https://localhost:8080/"
        },
        "id": "jWvkX5YzdMfu",
        "outputId": "15060e74-782f-430a-e44d-dd5b1d45cd8b"
      },
      "source": [
        "myPythonlist=[1,7,8,6]\n",
        "print(myPythonlist)"
      ],
      "execution_count": 2,
      "outputs": [
        {
          "output_type": "stream",
          "text": [
            "[1, 7, 8, 6]\n"
          ],
          "name": "stdout"
        }
      ]
    },
    {
      "cell_type": "code",
      "metadata": {
        "colab": {
          "base_uri": "https://localhost:8080/"
        },
        "id": "edMQ4RR6dcly",
        "outputId": "f519ab17-3cc5-4915-bc72-11122a85f22d"
      },
      "source": [
        "array_from_list=np.array(myPythonlist)\n",
        "array_from_list"
      ],
      "execution_count": 3,
      "outputs": [
        {
          "output_type": "execute_result",
          "data": {
            "text/plain": [
              "array([1, 7, 8, 6])"
            ]
          },
          "metadata": {
            "tags": []
          },
          "execution_count": 3
        }
      ]
    },
    {
      "cell_type": "code",
      "metadata": {
        "colab": {
          "base_uri": "https://localhost:8080/"
        },
        "id": "8i-zrk7ddcod",
        "outputId": "bfa5d7df-1cd2-4e31-b81f-4ff094ba34d0"
      },
      "source": [
        "a=np.array([1,7,8,6])\n",
        "print(a)"
      ],
      "execution_count": 4,
      "outputs": [
        {
          "output_type": "stream",
          "text": [
            "[1 7 8 6]\n"
          ],
          "name": "stdout"
        }
      ]
    },
    {
      "cell_type": "code",
      "metadata": {
        "colab": {
          "base_uri": "https://localhost:8080/"
        },
        "id": "QxSwxbC7dcrm",
        "outputId": "118a4c1d-c4e2-47ab-da9e-5a9fc71474c2"
      },
      "source": [
        "x=array_from_list + 10\n",
        "print(x)"
      ],
      "execution_count": 5,
      "outputs": [
        {
          "output_type": "stream",
          "text": [
            "[11 17 18 16]\n"
          ],
          "name": "stdout"
        }
      ]
    },
    {
      "cell_type": "code",
      "metadata": {
        "colab": {
          "base_uri": "https://localhost:8080/"
        },
        "id": "5e3-ns1neH9h",
        "outputId": "87ebcd74-215b-40bc-e904-bdeb273e1b42"
      },
      "source": [
        "a=np.array([1,4,5])\n",
        "print(a.shape)\n",
        "print(a.dtype)"
      ],
      "execution_count": 6,
      "outputs": [
        {
          "output_type": "stream",
          "text": [
            "(3,)\n",
            "int64\n"
          ],
          "name": "stdout"
        }
      ]
    },
    {
      "cell_type": "code",
      "metadata": {
        "colab": {
          "base_uri": "https://localhost:8080/"
        },
        "id": "Tmc7dEYfeIEu",
        "outputId": "3d3353ab-0a72-4c55-cf45-2381f0329873"
      },
      "source": [
        "b=np.array([1,4.4,5])\n",
        "print(b.dtype)"
      ],
      "execution_count": 7,
      "outputs": [
        {
          "output_type": "stream",
          "text": [
            "float64\n"
          ],
          "name": "stdout"
        }
      ]
    },
    {
      "cell_type": "code",
      "metadata": {
        "colab": {
          "base_uri": "https://localhost:8080/"
        },
        "id": "gXCPtuECeIIK",
        "outputId": "7df526dc-d84b-459d-f714-abfdcf22ff8d"
      },
      "source": [
        "c=np.array([(1,2,3),(4,5,6)])\n",
        "print(c)"
      ],
      "execution_count": 9,
      "outputs": [
        {
          "output_type": "stream",
          "text": [
            "[[1 2 3]\n",
            " [4 5 6]]\n"
          ],
          "name": "stdout"
        }
      ]
    },
    {
      "cell_type": "code",
      "metadata": {
        "colab": {
          "base_uri": "https://localhost:8080/"
        },
        "id": "DODs_o8aeINi",
        "outputId": "4b702862-18ec-4acc-b98a-278397f317e5"
      },
      "source": [
        "d=np.array([[[1,2,3],[4,5,6],[7,8,9],[10,11,12]]])\n",
        "print(d.shape)"
      ],
      "execution_count": 10,
      "outputs": [
        {
          "output_type": "stream",
          "text": [
            "(1, 4, 3)\n"
          ],
          "name": "stdout"
        }
      ]
    },
    {
      "cell_type": "code",
      "metadata": {
        "colab": {
          "base_uri": "https://localhost:8080/"
        },
        "id": "XXNawQRleISd",
        "outputId": "a9518135-f3eb-4e6a-dfe3-34b15a64ca7b"
      },
      "source": [
        "import numpy as np\n",
        "x=np.zeros((2,2), dtype=np.int16)\n",
        "print(x)\n"
      ],
      "execution_count": 13,
      "outputs": [
        {
          "output_type": "stream",
          "text": [
            "[[0 0]\n",
            " [0 0]]\n"
          ],
          "name": "stdout"
        }
      ]
    },
    {
      "cell_type": "code",
      "metadata": {
        "colab": {
          "base_uri": "https://localhost:8080/"
        },
        "id": "p_DcYoKqj_3x",
        "outputId": "c15bd7dd-d753-4bdc-effb-5a6b99404302"
      },
      "source": [
        "import numpy as np\n",
        "e=np.array([(1,2,3),(4,5,6)])\n",
        "print(e)\n",
        "e.reshape(3,2)"
      ],
      "execution_count": 17,
      "outputs": [
        {
          "output_type": "stream",
          "text": [
            "[[1 2 3]\n",
            " [4 5 6]]\n"
          ],
          "name": "stdout"
        },
        {
          "output_type": "execute_result",
          "data": {
            "text/plain": [
              "array([[1, 2],\n",
              "       [3, 4],\n",
              "       [5, 6]])"
            ]
          },
          "metadata": {
            "tags": []
          },
          "execution_count": 17
        }
      ]
    },
    {
      "cell_type": "code",
      "metadata": {
        "colab": {
          "base_uri": "https://localhost:8080/"
        },
        "id": "GgE_IqzWkADw",
        "outputId": "60e69b8b-2f31-4c08-ced0-14b0f012c077"
      },
      "source": [
        "e.flatten()"
      ],
      "execution_count": 18,
      "outputs": [
        {
          "output_type": "execute_result",
          "data": {
            "text/plain": [
              "array([1, 2, 3, 4, 5, 6])"
            ]
          },
          "metadata": {
            "tags": []
          },
          "execution_count": 18
        }
      ]
    },
    {
      "cell_type": "code",
      "metadata": {
        "colab": {
          "base_uri": "https://localhost:8080/"
        },
        "id": "HYibtKkWkAHR",
        "outputId": "d9913385-aabf-4d0e-af3c-9f8a84e762a4"
      },
      "source": [
        "import numpy as np\n",
        "f=np.array([1,2,3])\n",
        "g=np.array([4,5,6])\n",
        "print('Hor.append : ' , np.hstack((f,g)))"
      ],
      "execution_count": 19,
      "outputs": [
        {
          "output_type": "stream",
          "text": [
            "Hor.append :  [1 2 3 4 5 6]\n"
          ],
          "name": "stdout"
        }
      ]
    },
    {
      "cell_type": "code",
      "metadata": {
        "colab": {
          "base_uri": "https://localhost:8080/"
        },
        "id": "qgyoHiGVmL56",
        "outputId": "289c84f6-b31c-46b8-8ae7-0ac07d5fb114"
      },
      "source": [
        "import numpy as np\n",
        "f=np.array([1,2,3])\n",
        "g=np.array([4,5,6])\n",
        "print('Ver.append : ' , np.vstack((f,g)))"
      ],
      "execution_count": 20,
      "outputs": [
        {
          "output_type": "stream",
          "text": [
            "Ver.append :  [[1 2 3]\n",
            " [4 5 6]]\n"
          ],
          "name": "stdout"
        }
      ]
    },
    {
      "cell_type": "code",
      "metadata": {
        "colab": {
          "base_uri": "https://localhost:8080/"
        },
        "id": "ewQbwaUkmMCR",
        "outputId": "f5a01461-c3ac-4ef6-a372-a018d064a4bc"
      },
      "source": [
        "normal_array=np.random.normal(2,0.2,4)\n",
        "print(normal_array)"
      ],
      "execution_count": 21,
      "outputs": [
        {
          "output_type": "stream",
          "text": [
            "[2.21380681 1.98233556 1.88712885 1.76969229]\n"
          ],
          "name": "stdout"
        }
      ]
    },
    {
      "cell_type": "code",
      "metadata": {
        "colab": {
          "base_uri": "https://localhost:8080/"
        },
        "id": "UUtw9uU9nJTJ",
        "outputId": "17f2e316-872d-45af-e6fb-458021cd74f3"
      },
      "source": [
        "A=np.matrix(np.ones((4,4)))\n",
        "np.array(A)[2]=2\n",
        "print(A)"
      ],
      "execution_count": 24,
      "outputs": [
        {
          "output_type": "stream",
          "text": [
            "[[1. 1. 1. 1.]\n",
            " [1. 1. 1. 1.]\n",
            " [1. 1. 1. 1.]\n",
            " [1. 1. 1. 1.]]\n"
          ],
          "name": "stdout"
        }
      ]
    },
    {
      "cell_type": "code",
      "metadata": {
        "colab": {
          "base_uri": "https://localhost:8080/"
        },
        "id": "-W5e3SGDnJoX",
        "outputId": "3832498a-4c06-458d-9338-43d93dfd9042"
      },
      "source": [
        "np.asarray(A)[2]=2\n",
        "print(A)\n",
        "\n"
      ],
      "execution_count": 25,
      "outputs": [
        {
          "output_type": "stream",
          "text": [
            "[[1. 1. 1. 1.]\n",
            " [1. 1. 1. 1.]\n",
            " [2. 2. 2. 2.]\n",
            " [1. 1. 1. 1.]]\n"
          ],
          "name": "stdout"
        }
      ]
    },
    {
      "cell_type": "code",
      "metadata": {
        "colab": {
          "base_uri": "https://localhost:8080/"
        },
        "id": "L-O8XJL7nJyX",
        "outputId": "a0c8af3d-c90f-4e02-87bb-e571a6cf765c"
      },
      "source": [
        "np.arange(1,11)"
      ],
      "execution_count": 27,
      "outputs": [
        {
          "output_type": "execute_result",
          "data": {
            "text/plain": [
              "array([ 1,  2,  3,  4,  5,  6,  7,  8,  9, 10])"
            ]
          },
          "metadata": {
            "tags": []
          },
          "execution_count": 27
        }
      ]
    },
    {
      "cell_type": "code",
      "metadata": {
        "colab": {
          "base_uri": "https://localhost:8080/"
        },
        "id": "oO1SvoeDsu1z",
        "outputId": "f6fb21b8-0d9b-4851-b320-ad01cca8cd76"
      },
      "source": [
        "np.arange(0,16,5)"
      ],
      "execution_count": 28,
      "outputs": [
        {
          "output_type": "execute_result",
          "data": {
            "text/plain": [
              "array([ 0,  5, 10, 15])"
            ]
          },
          "metadata": {
            "tags": []
          },
          "execution_count": 28
        }
      ]
    },
    {
      "cell_type": "code",
      "metadata": {
        "colab": {
          "base_uri": "https://localhost:8080/"
        },
        "id": "BDGLSTY7sq22",
        "outputId": "ca00b6d9-0b87-4fc0-86fd-06880b715fd3"
      },
      "source": [
        "import numpy as np\n",
        "np.linspace(1.0,10.0, num=20)"
      ],
      "execution_count": 29,
      "outputs": [
        {
          "output_type": "execute_result",
          "data": {
            "text/plain": [
              "array([ 1.        ,  1.47368421,  1.94736842,  2.42105263,  2.89473684,\n",
              "        3.36842105,  3.84210526,  4.31578947,  4.78947368,  5.26315789,\n",
              "        5.73684211,  6.21052632,  6.68421053,  7.15789474,  7.63157895,\n",
              "        8.10526316,  8.57894737,  9.05263158,  9.52631579, 10.        ])"
            ]
          },
          "metadata": {
            "tags": []
          },
          "execution_count": 29
        }
      ]
    },
    {
      "cell_type": "code",
      "metadata": {
        "colab": {
          "base_uri": "https://localhost:8080/"
        },
        "id": "PpqmnabDtFJx",
        "outputId": "f336197f-1d34-4ade-ca74-7b5dafb5e905"
      },
      "source": [
        "np.logspace(3.0,4.0, num=4)"
      ],
      "execution_count": 30,
      "outputs": [
        {
          "output_type": "execute_result",
          "data": {
            "text/plain": [
              "array([ 1000.        ,  2154.43469003,  4641.58883361, 10000.        ])"
            ]
          },
          "metadata": {
            "tags": []
          },
          "execution_count": 30
        }
      ]
    },
    {
      "cell_type": "code",
      "metadata": {
        "colab": {
          "base_uri": "https://localhost:8080/"
        },
        "id": "bcukFNajtFWx",
        "outputId": "78a52509-1e7a-4cbf-c173-d0b96e34d115"
      },
      "source": [
        "x=np.array([1,2,3], dtype=np.complex128)\n",
        "x.itemsize"
      ],
      "execution_count": 31,
      "outputs": [
        {
          "output_type": "execute_result",
          "data": {
            "text/plain": [
              "16"
            ]
          },
          "metadata": {
            "tags": []
          },
          "execution_count": 31
        }
      ]
    },
    {
      "cell_type": "code",
      "metadata": {
        "colab": {
          "base_uri": "https://localhost:8080/"
        },
        "id": "ugrV1mBNcDKU",
        "outputId": "da167e2b-a4fd-4074-b97f-7413f21e28f6"
      },
      "source": [
        "import numpy as np\n",
        "e=np.array([(1,2,3),(4,5,6)])\n",
        "print(e)"
      ],
      "execution_count": 2,
      "outputs": [
        {
          "output_type": "stream",
          "text": [
            "[[1 2 3]\n",
            " [4 5 6]]\n"
          ],
          "name": "stdout"
        }
      ]
    },
    {
      "cell_type": "code",
      "metadata": {
        "colab": {
          "base_uri": "https://localhost:8080/"
        },
        "id": "M8d53f9rvE8K",
        "outputId": "08529144-90a1-49cb-e617-9d7b4e0106ae"
      },
      "source": [
        "print('first row : ', e[0] )\n",
        "print('second row : ',e[1])"
      ],
      "execution_count": 6,
      "outputs": [
        {
          "output_type": "stream",
          "text": [
            "first row :  [1 2 3]\n",
            "second row :  [4 5 6]\n"
          ],
          "name": "stdout"
        }
      ]
    },
    {
      "cell_type": "code",
      "metadata": {
        "colab": {
          "base_uri": "https://localhost:8080/"
        },
        "id": "IaD8oxQXvE_2",
        "outputId": "07c8bd96-6c54-48cb-dc74-11f8f41e7e07"
      },
      "source": [
        "print('2nd column : ' ,e[:,1])"
      ],
      "execution_count": 7,
      "outputs": [
        {
          "output_type": "stream",
          "text": [
            "2nd column :  [2 5]\n"
          ],
          "name": "stdout"
        }
      ]
    },
    {
      "cell_type": "code",
      "metadata": {
        "colab": {
          "base_uri": "https://localhost:8080/"
        },
        "id": "CEHleJwxc_1w",
        "outputId": "f86ea04a-8719-4de0-e3e8-5350823dce6a"
      },
      "source": [
        "print(e[1,:2])"
      ],
      "execution_count": 8,
      "outputs": [
        {
          "output_type": "stream",
          "text": [
            "[4 5]\n"
          ],
          "name": "stdout"
        }
      ]
    },
    {
      "cell_type": "code",
      "metadata": {
        "colab": {
          "base_uri": "https://localhost:8080/"
        },
        "id": "c8kn2dkTc_5V",
        "outputId": "ef6683c4-b212-4bae-9055-7c8c14a9bfb8"
      },
      "source": [
        "import numpy as np\n",
        "normal_array=np.random.normal(5,0.5,10)\n",
        "print(normal_array)"
      ],
      "execution_count": 9,
      "outputs": [
        {
          "output_type": "stream",
          "text": [
            "[4.33611828 4.45854663 6.30667803 4.75817793 5.14553253 5.09263007\n",
            " 4.59025034 5.19877433 4.8157767  5.16551305]\n"
          ],
          "name": "stdout"
        }
      ]
    },
    {
      "cell_type": "code",
      "metadata": {
        "colab": {
          "base_uri": "https://localhost:8080/"
        },
        "id": "Ew-h37gZc_8G",
        "outputId": "8672e4a0-175b-4405-f779-0a2840b6fb89"
      },
      "source": [
        "print(np.min(normal_array))\n",
        "print(np.max(normal_array))\n",
        "print(np.mean(normal_array))\n",
        "print(np.median(normal_array))\n",
        "print(np.std(normal_array))"
      ],
      "execution_count": 10,
      "outputs": [
        {
          "output_type": "stream",
          "text": [
            "4.3361182817566055\n",
            "6.306678025074024\n",
            "4.986799786303932\n",
            "4.954203381568055\n",
            "0.5288244010155227\n"
          ],
          "name": "stdout"
        }
      ]
    },
    {
      "cell_type": "code",
      "metadata": {
        "colab": {
          "base_uri": "https://localhost:8080/"
        },
        "id": "jL4lfqGHd4u6",
        "outputId": "0523cc78-577e-4222-cea4-a267948623ce"
      },
      "source": [
        "import numpy as np\n",
        "f=np.array([1,2])\n",
        "g=np.array([4,5])\n",
        "np.dot(f,g)"
      ],
      "execution_count": 12,
      "outputs": [
        {
          "output_type": "execute_result",
          "data": {
            "text/plain": [
              "14"
            ]
          },
          "metadata": {
            "tags": []
          },
          "execution_count": 12
        }
      ]
    },
    {
      "cell_type": "code",
      "metadata": {
        "colab": {
          "base_uri": "https://localhost:8080/"
        },
        "id": "_tigDhKxd4yM",
        "outputId": "57d90f0f-4889-464c-b8b6-32d469054c3f"
      },
      "source": [
        "import numpy as np\n",
        "h=[[1,2],[3,4]]\n",
        "i=[[5,6],[7,8]]\n",
        "np.matmul(h,i)"
      ],
      "execution_count": 15,
      "outputs": [
        {
          "output_type": "execute_result",
          "data": {
            "text/plain": [
              "array([[19, 22],\n",
              "       [43, 50]])"
            ]
          },
          "metadata": {
            "tags": []
          },
          "execution_count": 15
        }
      ]
    },
    {
      "cell_type": "code",
      "metadata": {
        "colab": {
          "base_uri": "https://localhost:8080/"
        },
        "id": "ynL3SXvTe8Ku",
        "outputId": "a5b773bd-8547-4938-c204-6ed2c70446b5"
      },
      "source": [
        "A=np.array([[6,1,1],[4,-2,5],[2,8,7]])\n",
        "print(np.linalg.inv(A))"
      ],
      "execution_count": 16,
      "outputs": [
        {
          "output_type": "stream",
          "text": [
            "[[ 0.17647059 -0.00326797 -0.02287582]\n",
            " [ 0.05882353 -0.13071895  0.08496732]\n",
            " [-0.11764706  0.1503268   0.05228758]]\n"
          ],
          "name": "stdout"
        }
      ]
    },
    {
      "cell_type": "code",
      "metadata": {
        "colab": {
          "base_uri": "https://localhost:8080/"
        },
        "id": "b9TA2xdhe8OU",
        "outputId": "3a3c3a7b-8940-439a-c591-56e7a1a740d4"
      },
      "source": [
        "n_array=np.array([[50,29],[30,44]])\n",
        "det=np.linalg.det(n_array)\n",
        "print(\"\\nDeterminant is: \")\n",
        "print(int(det))"
      ],
      "execution_count": 17,
      "outputs": [
        {
          "output_type": "stream",
          "text": [
            "\n",
            "Determinant is: \n",
            "1330\n"
          ],
          "name": "stdout"
        }
      ]
    },
    {
      "cell_type": "code",
      "metadata": {
        "colab": {
          "base_uri": "https://localhost:8080/"
        },
        "id": "tD6QTET2h9Fb",
        "outputId": "86347960-c0e3-4a9c-b5ad-f735dde12bff"
      },
      "source": [
        "mx=np.array([[6,1,1],[4,-2,5],[2,8,7]])\n",
        "print(\"\\nRank is : \")\n",
        "np.linalg.matrix_rank(mx)"
      ],
      "execution_count": 18,
      "outputs": [
        {
          "output_type": "stream",
          "text": [
            "\n",
            "Rank is : \n"
          ],
          "name": "stdout"
        },
        {
          "output_type": "execute_result",
          "data": {
            "text/plain": [
              "3"
            ]
          },
          "metadata": {
            "tags": []
          },
          "execution_count": 18
        }
      ]
    },
    {
      "cell_type": "code",
      "metadata": {
        "colab": {
          "base_uri": "https://localhost:8080/"
        },
        "id": "3lfTLVPjiV0G",
        "outputId": "5b3e9ecb-d2e1-42a4-f3fb-d82779676250"
      },
      "source": [
        "A=np.matrix('[6,2 ; 3, 4]')\n",
        "diag=A.diagonal()\n",
        "print(diag)"
      ],
      "execution_count": 24,
      "outputs": [
        {
          "output_type": "stream",
          "text": [
            "[[6 4]]\n"
          ],
          "name": "stdout"
        }
      ]
    },
    {
      "cell_type": "code",
      "metadata": {
        "colab": {
          "base_uri": "https://localhost:8080/"
        },
        "id": "MFv_k5qAixPw",
        "outputId": "df3736fa-c053-465c-d062-e0a3ec73c6ff"
      },
      "source": [
        "A=np.matrix([[6,1,1],[4,-2,5],[2,8,7]])\n",
        "A.transpose()"
      ],
      "execution_count": 25,
      "outputs": [
        {
          "output_type": "execute_result",
          "data": {
            "text/plain": [
              "matrix([[ 6,  4,  2],\n",
              "        [ 1, -2,  8],\n",
              "        [ 1,  5,  7]])"
            ]
          },
          "metadata": {
            "tags": []
          },
          "execution_count": 25
        }
      ]
    },
    {
      "cell_type": "code",
      "metadata": {
        "colab": {
          "base_uri": "https://localhost:8080/"
        },
        "id": "9Jcl1CqrkTjP",
        "outputId": "a22b878d-e780-4d1c-c6e3-ca993fdc588b"
      },
      "source": [
        "A=np.matrix([[6,1,1],[4,-2,5],[2,8,7]])\n",
        "\n",
        "np.linalg.eig(A)"
      ],
      "execution_count": 27,
      "outputs": [
        {
          "output_type": "execute_result",
          "data": {
            "text/plain": [
              "(array([11.24862343,  5.09285054, -5.34147398]),\n",
              " matrix([[ 0.24511338,  0.75669314,  0.02645665],\n",
              "         [ 0.40622202, -0.03352363, -0.84078293],\n",
              "         [ 0.88028581, -0.65291014,  0.54072554]]))"
            ]
          },
          "metadata": {
            "tags": []
          },
          "execution_count": 27
        }
      ]
    },
    {
      "cell_type": "code",
      "metadata": {
        "colab": {
          "base_uri": "https://localhost:8080/"
        },
        "id": "dzMg1ubxlHEy",
        "outputId": "73b15ea3-11ca-47b5-8a4f-67fda44250e7"
      },
      "source": [
        "gfg=np.matrix('[4,1 ; 6, 5]')\n",
        "gfg.trace()"
      ],
      "execution_count": 29,
      "outputs": [
        {
          "output_type": "execute_result",
          "data": {
            "text/plain": [
              "matrix([[9]])"
            ]
          },
          "metadata": {
            "tags": []
          },
          "execution_count": 29
        }
      ]
    }
  ]
}